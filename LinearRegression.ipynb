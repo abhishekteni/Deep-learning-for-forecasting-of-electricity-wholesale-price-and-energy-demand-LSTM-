{
 "cells": [
  {
   "cell_type": "code",
   "execution_count": 10,
   "id": "ecc8e7d2",
   "metadata": {},
   "outputs": [],
   "source": [
    "import pandas as pd\n",
    "from sklearn.model_selection import train_test_split\n",
    "from sklearn.linear_model import LinearRegression\n",
    "from sklearn.metrics import mean_squared_error, r2_score\n",
    "import numpy as np\n",
    "import matplotlib.pyplot as plt\n",
    "\n",
    "# # Drop any rows with missing values, if necessary\n",
    "data = pd.read_csv('./dataset_train_4_0to200.csv')"
   ]
  },
  {
   "cell_type": "code",
   "execution_count": 2,
   "id": "9b48a572",
   "metadata": {},
   "outputs": [],
   "source": [
    "# Select the features (input variables) and the target (output variable)\n",
    "X = data[['Delivery Hour', 'Temperature in F', 'Load in Houston']]\n",
    "y = data['Settlement Point Price']\n",
    "\n",
    "# Split the data into training and testing sets (80% for training, 20% for testing)\n",
    "X_train, X_test, y_train, y_test = train_test_split(X, y, test_size=0.2, random_state=42)"
   ]
  },
  {
   "cell_type": "code",
   "execution_count": 3,
   "id": "b3e317ab",
   "metadata": {},
   "outputs": [
    {
     "name": "stdout",
     "output_type": "stream",
     "text": [
      "[12.01799387 36.27728806 13.85943366 ... 15.64547456 17.92114625\n",
      " 28.76011248]\n"
     ]
    }
   ],
   "source": [
    "# Create and train the Linear Regression model\n",
    "model = LinearRegression()\n",
    "model.fit(X_train, y_train)\n",
    "\n",
    "# Make predictions on the test set\n",
    "y_pred = model.predict(X_test)\n",
    "print(y_pred)\n",
    "# Evaluate the model\n",
    "mse = mean_squared_error(y_test, y_pred)\n",
    "r2 = r2_score(y_test, y_pred)"
   ]
  },
  {
   "cell_type": "code",
   "execution_count": 4,
   "id": "2c991178",
   "metadata": {},
   "outputs": [
    {
     "name": "stdout",
     "output_type": "stream",
     "text": [
      "Mean Squared Error (MSE): 1232.2534255864982\n",
      "R-squared (R2) Score: 0.04998376196489629\n"
     ]
    }
   ],
   "source": [
    "print(\"Mean Squared Error (MSE):\", mse)\n",
    "print(\"R-squared (R2) Score:\", r2)\n",
    "\n",
    "error_lr = np.round(y_test,2)-np.round(y_pred,2)\n",
    "error_lr=error_lr.reset_index()[\"Settlement Point Price\"]"
   ]
  },
  {
   "cell_type": "code",
   "execution_count": 5,
   "id": "873dfeda",
   "metadata": {},
   "outputs": [
    {
     "name": "stdout",
     "output_type": "stream",
     "text": [
      "0.370000000000001\n",
      "accuracy: 61.61951501154734\n"
     ]
    }
   ],
   "source": [
    "i=0\n",
    "count=0\n",
    "print(error_lr[0])\n",
    "for i in range(len(error_lr)):\n",
    "    if ((error_lr[i])>5) or ((error_lr[i]<-5)):\n",
    "        count=count+1\n",
    "a = len(y_pred) - count\n",
    "accuracy = (a/len(y_pred))*100\n",
    "print('accuracy:', accuracy)"
   ]
  },
  {
   "cell_type": "code",
   "execution_count": 8,
   "id": "bcde6e43",
   "metadata": {},
   "outputs": [
    {
     "name": "stdout",
     "output_type": "stream",
     "text": [
      "accuracy: with threshold of 1  is 13.97\n",
      "accuracy: with threshold of 2  is 27.71\n",
      "accuracy: with threshold of 3  is 40.55\n",
      "accuracy: with threshold of 4  is 51.63\n",
      "accuracy: with threshold of 5  is 61.62\n",
      "accuracy: with threshold of 6  is 70.09\n",
      "accuracy: with threshold of 7  is 76.36\n",
      "accuracy: with threshold of 8  is 81.52\n",
      "accuracy: with threshold of 9  is 85.58\n",
      "accuracy: with threshold of 10  is 88.86\n"
     ]
    }
   ],
   "source": [
    "for j in range(1,11):\n",
    "    i=0\n",
    "    count=0\n",
    "    for i in range(len(error_lr)):\n",
    "        if ((error_lr[i])>j) or ((error_lr[i]<-j)):\n",
    "            count=count+1\n",
    "    a = len(y_pred) - count\n",
    "    accuracy = (a/len(y_pred))*100\n",
    "    print(\"accuracy: with threshold of %i\"%j,\" is %.2f\"%accuracy)"
   ]
  },
  {
   "cell_type": "code",
   "execution_count": 11,
   "id": "c2fc9c6a",
   "metadata": {},
   "outputs": [
    {
     "data": {
      "image/png": "[encoded data removed]",
      "text/plain": [
       "<Figure size 432x288 with 1 Axes>"
      ]
     },
     "metadata": {
      "needs_background": "light"
     },
     "output_type": "display_data"
    }
   ],
   "source": [
    "# Plot the given vs predicted graph\n",
    "plt.scatter(y_test, y_pred, color='b', label='Predicted')\n",
    "plt.plot(y_test, y_test, color='r', label='Actual')\n",
    "plt.xlabel('Actual Settlement Point Price')\n",
    "plt.ylabel('Predicted Settlement Point Price')\n",
    "plt.legend()\n",
    "plt.title('Given vs Predicted')\n",
    "plt.show()"
   ]
  },
  {
   "cell_type": "code",
   "execution_count": null,
   "id": "832fb5e5",
   "metadata": {},
   "outputs": [],
   "source": []
  }
 ],
 "metadata": {
  "kernelspec": {
   "display_name": "Python 3 (ipykernel)",
   "language": "python",
   "name": "python3"
  },
  "language_info": {
   "codemirror_mode": {
    "name": "ipython",
    "version": 3
   },
   "file_extension": ".py",
   "mimetype": "text/x-python",
   "name": "python",
   "nbconvert_exporter": "python",
   "pygments_lexer": "ipython3",
   "version": "3.9.12"
  }
 },
 "nbformat": 4,
 "nbformat_minor": 5
}
