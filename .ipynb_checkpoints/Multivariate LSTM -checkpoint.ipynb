{
 "cells": [
  {
   "cell_type": "code",
   "execution_count": 28,
   "id": "1648eb68",
   "metadata": {},
   "outputs": [],
   "source": [
    "import numpy as np\n",
    "from tensorflow.keras.models import Sequential\n",
    "from tensorflow.keras.layers import LSTM\n",
    "from tensorflow.keras.layers import LSTM, Dense, Dropout, Flatten, Input, concatenate\n",
    "from tensorflow.keras.layers import Dense, Dropout\n",
    "import pandas as pd\n",
    "from matplotlib import pyplot as plt\n",
    "from sklearn.preprocessing import StandardScaler\n",
    "import seaborn as sns\n",
    "from sklearn.metrics import mean_absolute_error,mean_squared_error, r2_score"
   ]
  },
  {
   "cell_type": "code",
   "execution_count": 4,
   "id": "3c7e7a8b",
   "metadata": {},
   "outputs": [
    {
     "name": "stdout",
     "output_type": "stream",
     "text": [
      "34623   2018-12-31\n",
      "34624   2018-12-31\n",
      "34625   2018-12-31\n",
      "34626   2018-12-31\n",
      "34627   2018-12-31\n",
      "34628   2018-12-31\n",
      "34629   2018-12-31\n",
      "34630   2018-12-31\n",
      "34631   2018-12-31\n",
      "34632   2018-12-31\n",
      "34633   2018-12-31\n",
      "34634   2018-12-31\n",
      "34635   2018-12-31\n",
      "34636   2018-12-31\n",
      "34637   2018-12-31\n",
      "Name: Delivery Date, dtype: datetime64[ns]\n"
     ]
    }
   ],
   "source": [
    "#Separate dates for future plotting\n",
    "load = pd.read_csv('./dataset_train_4_0to200.csv')\n",
    "train_dates = pd.to_datetime(load.reset_index()['Delivery Date'])\n",
    "print(train_dates.tail(15)) #Check last few dates. \n"
   ]
  },
  {
   "cell_type": "code",
   "execution_count": 13,
   "id": "6dd61f52",
   "metadata": {},
   "outputs": [
    {
     "data": {
      "text/html": [
       "<div>\n",
       "<style scoped>\n",
       "    .dataframe tbody tr th:only-of-type {\n",
       "        vertical-align: middle;\n",
       "    }\n",
       "\n",
       "    .dataframe tbody tr th {\n",
       "        vertical-align: top;\n",
       "    }\n",
       "\n",
       "    .dataframe thead th {\n",
       "        text-align: right;\n",
       "    }\n",
       "</style>\n",
       "<table border=\"1\" class=\"dataframe\">\n",
       "  <thead>\n",
       "    <tr style=\"text-align: right;\">\n",
       "      <th></th>\n",
       "      <th>Delivery Date</th>\n",
       "      <th>Delivery Hour</th>\n",
       "      <th>Repeated Hour Flag</th>\n",
       "      <th>Settlement Point Name</th>\n",
       "      <th>Settlement Point Type</th>\n",
       "      <th>DayStatus</th>\n",
       "      <th>Temperature in F</th>\n",
       "      <th>Load in Houston</th>\n",
       "      <th>Settlement Point Price</th>\n",
       "    </tr>\n",
       "  </thead>\n",
       "  <tbody>\n",
       "    <tr>\n",
       "      <th>0</th>\n",
       "      <td>1/1/2015</td>\n",
       "      <td>1</td>\n",
       "      <td>N</td>\n",
       "      <td>LZ_HOUSTON</td>\n",
       "      <td>LZ</td>\n",
       "      <td>Public Holiday</td>\n",
       "      <td>44</td>\n",
       "      <td>9844.2</td>\n",
       "      <td>22.47</td>\n",
       "    </tr>\n",
       "    <tr>\n",
       "      <th>1</th>\n",
       "      <td>1/1/2015</td>\n",
       "      <td>2</td>\n",
       "      <td>N</td>\n",
       "      <td>LZ_HOUSTON</td>\n",
       "      <td>LZ</td>\n",
       "      <td>Public Holiday</td>\n",
       "      <td>44</td>\n",
       "      <td>9653.46</td>\n",
       "      <td>22.31</td>\n",
       "    </tr>\n",
       "    <tr>\n",
       "      <th>2</th>\n",
       "      <td>1/1/2015</td>\n",
       "      <td>3</td>\n",
       "      <td>N</td>\n",
       "      <td>LZ_HOUSTON</td>\n",
       "      <td>LZ</td>\n",
       "      <td>Public Holiday</td>\n",
       "      <td>44</td>\n",
       "      <td>9502.3</td>\n",
       "      <td>22.2</td>\n",
       "    </tr>\n",
       "    <tr>\n",
       "      <th>3</th>\n",
       "      <td>1/1/2015</td>\n",
       "      <td>4</td>\n",
       "      <td>N</td>\n",
       "      <td>LZ_HOUSTON</td>\n",
       "      <td>LZ</td>\n",
       "      <td>Public Holiday</td>\n",
       "      <td>44</td>\n",
       "      <td>9474.48</td>\n",
       "      <td>22.13</td>\n",
       "    </tr>\n",
       "    <tr>\n",
       "      <th>4</th>\n",
       "      <td>1/1/2015</td>\n",
       "      <td>5</td>\n",
       "      <td>N</td>\n",
       "      <td>LZ_HOUSTON</td>\n",
       "      <td>LZ</td>\n",
       "      <td>Public Holiday</td>\n",
       "      <td>44</td>\n",
       "      <td>9554.37</td>\n",
       "      <td>22.16</td>\n",
       "    </tr>\n",
       "  </tbody>\n",
       "</table>\n",
       "</div>"
      ],
      "text/plain": [
       "  Delivery Date  Delivery Hour Repeated Hour Flag Settlement Point Name  \\\n",
       "0      1/1/2015              1                  N            LZ_HOUSTON   \n",
       "1      1/1/2015              2                  N            LZ_HOUSTON   \n",
       "2      1/1/2015              3                  N            LZ_HOUSTON   \n",
       "3      1/1/2015              4                  N            LZ_HOUSTON   \n",
       "4      1/1/2015              5                  N            LZ_HOUSTON   \n",
       "\n",
       "  Settlement Point Type       DayStatus  Temperature in F Load in Houston  \\\n",
       "0                    LZ  Public Holiday                44          9844.2   \n",
       "1                    LZ  Public Holiday                44         9653.46   \n",
       "2                    LZ  Public Holiday                44          9502.3   \n",
       "3                    LZ  Public Holiday                44         9474.48   \n",
       "4                    LZ  Public Holiday                44         9554.37   \n",
       "\n",
       "  Settlement Point Price  \n",
       "0                  22.47  \n",
       "1                  22.31  \n",
       "2                   22.2  \n",
       "3                  22.13  \n",
       "4                  22.16  "
      ]
     },
     "execution_count": 13,
     "metadata": {},
     "output_type": "execute_result"
    }
   ],
   "source": [
    "# Removing \",\" from columns \"Load in Houston\" , \"Ercot Load\" and \"Settlement Point Price\"\n",
    "load['Load in Houston'] = load['Load in Houston'].astype(str).str.replace(r',', '')\n",
    "#load['Ercot Load'] = load['Ercot Load'].astype(str).str.replace(r',', '')\n",
    "load['Settlement Point Price'] = load['Settlement Point Price'].astype(str).str.replace(r',', '')\n",
    "load.head()"
   ]
  },
  {
   "cell_type": "code",
   "execution_count": 14,
   "id": "052a7ac5",
   "metadata": {},
   "outputs": [],
   "source": [
    "load['Settlement Point Price'] = load['Settlement Point Price'].astype(float)\n",
    "load['Temperature in F'] = load['Temperature in F'].astype(float)\n",
    "load['Load in Houston'] = load['Load in Houston'].astype(float)\n",
    "#load['Ercot Load'] = load['Ercot Load'].astype(float)\n",
    "load['Settlement Point Price'] = round(load['Settlement Point Price'],2)\n",
    "load.dtypes\n",
    "dataset = load.values"
   ]
  },
  {
   "cell_type": "code",
   "execution_count": 15,
   "id": "ae1fe3ca",
   "metadata": {},
   "outputs": [
    {
     "data": {
      "text/plain": [
       "0        3\n",
       "1        3\n",
       "2        3\n",
       "3        3\n",
       "4        3\n",
       "        ..\n",
       "34633    0\n",
       "34634    0\n",
       "34635    0\n",
       "34636    0\n",
       "34637    0\n",
       "Name: dayofweek, Length: 34638, dtype: int64"
      ]
     },
     "execution_count": 15,
     "metadata": {},
     "output_type": "execute_result"
    }
   ],
   "source": [
    "load.dtypes\n",
    "\n",
    "import datetime\n",
    "load['year'] = pd.DatetimeIndex(load['Delivery Date']).year\n",
    "load['day'] = pd.DatetimeIndex(load['Delivery Date']).day# Extracting Day from \"Delivery Date\"\n",
    "load['month'] = pd.DatetimeIndex(load['Delivery Date']).month   # Extracting Month from \"Delivery Date\"\n",
    "\n",
    "\n",
    "a = load['Delivery Date']\n",
    "a= pd.to_datetime(a)\n",
    "\n",
    "load['dayofweek'] = a.dt.dayofweek\n",
    "load['dayofweek'] "
   ]
  },
  {
   "cell_type": "code",
   "execution_count": 16,
   "id": "ec3c7ebc",
   "metadata": {},
   "outputs": [],
   "source": [
    "load['year'] = pd.DatetimeIndex(load['Delivery Date']).year"
   ]
  },
  {
   "cell_type": "code",
   "execution_count": 17,
   "id": "2a66ba91",
   "metadata": {},
   "outputs": [
    {
     "data": {
      "text/html": [
       "<div>\n",
       "<style scoped>\n",
       "    .dataframe tbody tr th:only-of-type {\n",
       "        vertical-align: middle;\n",
       "    }\n",
       "\n",
       "    .dataframe tbody tr th {\n",
       "        vertical-align: top;\n",
       "    }\n",
       "\n",
       "    .dataframe thead th {\n",
       "        text-align: right;\n",
       "    }\n",
       "</style>\n",
       "<table border=\"1\" class=\"dataframe\">\n",
       "  <thead>\n",
       "    <tr style=\"text-align: right;\">\n",
       "      <th></th>\n",
       "      <th>dayofweek</th>\n",
       "      <th>month</th>\n",
       "      <th>Delivery Hour</th>\n",
       "      <th>Temperature in F</th>\n",
       "      <th>Load in Houston</th>\n",
       "      <th>Settlement Point Price</th>\n",
       "    </tr>\n",
       "    <tr>\n",
       "      <th>Delivery Date</th>\n",
       "      <th></th>\n",
       "      <th></th>\n",
       "      <th></th>\n",
       "      <th></th>\n",
       "      <th></th>\n",
       "      <th></th>\n",
       "    </tr>\n",
       "  </thead>\n",
       "  <tbody>\n",
       "    <tr>\n",
       "      <th>1/1/2015</th>\n",
       "      <td>3</td>\n",
       "      <td>1</td>\n",
       "      <td>1</td>\n",
       "      <td>44.0</td>\n",
       "      <td>9844.20</td>\n",
       "      <td>22.47</td>\n",
       "    </tr>\n",
       "    <tr>\n",
       "      <th>1/1/2015</th>\n",
       "      <td>3</td>\n",
       "      <td>1</td>\n",
       "      <td>2</td>\n",
       "      <td>44.0</td>\n",
       "      <td>9653.46</td>\n",
       "      <td>22.31</td>\n",
       "    </tr>\n",
       "    <tr>\n",
       "      <th>1/1/2015</th>\n",
       "      <td>3</td>\n",
       "      <td>1</td>\n",
       "      <td>3</td>\n",
       "      <td>44.0</td>\n",
       "      <td>9502.30</td>\n",
       "      <td>22.20</td>\n",
       "    </tr>\n",
       "    <tr>\n",
       "      <th>1/1/2015</th>\n",
       "      <td>3</td>\n",
       "      <td>1</td>\n",
       "      <td>4</td>\n",
       "      <td>44.0</td>\n",
       "      <td>9474.48</td>\n",
       "      <td>22.13</td>\n",
       "    </tr>\n",
       "    <tr>\n",
       "      <th>1/1/2015</th>\n",
       "      <td>3</td>\n",
       "      <td>1</td>\n",
       "      <td>5</td>\n",
       "      <td>44.0</td>\n",
       "      <td>9554.37</td>\n",
       "      <td>22.16</td>\n",
       "    </tr>\n",
       "  </tbody>\n",
       "</table>\n",
       "</div>"
      ],
      "text/plain": [
       "               dayofweek  month  Delivery Hour  Temperature in F  \\\n",
       "Delivery Date                                                      \n",
       "1/1/2015               3      1              1              44.0   \n",
       "1/1/2015               3      1              2              44.0   \n",
       "1/1/2015               3      1              3              44.0   \n",
       "1/1/2015               3      1              4              44.0   \n",
       "1/1/2015               3      1              5              44.0   \n",
       "\n",
       "               Load in Houston  Settlement Point Price  \n",
       "Delivery Date                                           \n",
       "1/1/2015               9844.20                   22.47  \n",
       "1/1/2015               9653.46                   22.31  \n",
       "1/1/2015               9502.30                   22.20  \n",
       "1/1/2015               9474.48                   22.13  \n",
       "1/1/2015               9554.37                   22.16  "
      ]
     },
     "execution_count": 17,
     "metadata": {},
     "output_type": "execute_result"
    }
   ],
   "source": [
    "load = load.set_index(['Delivery Date']) \n",
    "load = load.drop(columns=['year','day','Settlement Point Name','Settlement Point Type'], axis=1)  \n",
    "# Re-arranging Columns\n",
    "load = load[['dayofweek','month','Delivery Hour','Temperature in F','Load in Houston', 'Settlement Point Price']]\n",
    "load.head()"
   ]
  },
  {
   "cell_type": "code",
   "execution_count": 18,
   "id": "ff26610a",
   "metadata": {},
   "outputs": [
    {
     "name": "stdout",
     "output_type": "stream",
     "text": [
      "['month', 'Delivery Hour', 'Temperature in F', 'Load in Houston', 'Settlement Point Price']\n"
     ]
    }
   ],
   "source": [
    "\n",
    "#Variables for training\n",
    "cols = list(load)[1:6]\n",
    "#Date and volume columns are not used in training. \n",
    "print(cols) #['Open', 'High', 'Low', 'Close', 'Adj Close']"
   ]
  },
  {
   "cell_type": "code",
   "execution_count": 19,
   "id": "a076ab3b",
   "metadata": {},
   "outputs": [
    {
     "data": {
      "text/html": [
       "<div>\n",
       "<style scoped>\n",
       "    .dataframe tbody tr th:only-of-type {\n",
       "        vertical-align: middle;\n",
       "    }\n",
       "\n",
       "    .dataframe tbody tr th {\n",
       "        vertical-align: top;\n",
       "    }\n",
       "\n",
       "    .dataframe thead th {\n",
       "        text-align: right;\n",
       "    }\n",
       "</style>\n",
       "<table border=\"1\" class=\"dataframe\">\n",
       "  <thead>\n",
       "    <tr style=\"text-align: right;\">\n",
       "      <th></th>\n",
       "      <th>dayofweek</th>\n",
       "      <th>month</th>\n",
       "      <th>Delivery Hour</th>\n",
       "      <th>Temperature in F</th>\n",
       "      <th>Load in Houston</th>\n",
       "      <th>Settlement Point Price</th>\n",
       "    </tr>\n",
       "    <tr>\n",
       "      <th>Delivery Date</th>\n",
       "      <th></th>\n",
       "      <th></th>\n",
       "      <th></th>\n",
       "      <th></th>\n",
       "      <th></th>\n",
       "      <th></th>\n",
       "    </tr>\n",
       "  </thead>\n",
       "  <tbody>\n",
       "    <tr>\n",
       "      <th>1/1/2015</th>\n",
       "      <td>3</td>\n",
       "      <td>1</td>\n",
       "      <td>1</td>\n",
       "      <td>44.0</td>\n",
       "      <td>9844.20</td>\n",
       "      <td>22.47</td>\n",
       "    </tr>\n",
       "    <tr>\n",
       "      <th>1/1/2015</th>\n",
       "      <td>3</td>\n",
       "      <td>1</td>\n",
       "      <td>2</td>\n",
       "      <td>44.0</td>\n",
       "      <td>9653.46</td>\n",
       "      <td>22.31</td>\n",
       "    </tr>\n",
       "    <tr>\n",
       "      <th>1/1/2015</th>\n",
       "      <td>3</td>\n",
       "      <td>1</td>\n",
       "      <td>3</td>\n",
       "      <td>44.0</td>\n",
       "      <td>9502.30</td>\n",
       "      <td>22.20</td>\n",
       "    </tr>\n",
       "    <tr>\n",
       "      <th>1/1/2015</th>\n",
       "      <td>3</td>\n",
       "      <td>1</td>\n",
       "      <td>4</td>\n",
       "      <td>44.0</td>\n",
       "      <td>9474.48</td>\n",
       "      <td>22.13</td>\n",
       "    </tr>\n",
       "    <tr>\n",
       "      <th>1/1/2015</th>\n",
       "      <td>3</td>\n",
       "      <td>1</td>\n",
       "      <td>5</td>\n",
       "      <td>44.0</td>\n",
       "      <td>9554.37</td>\n",
       "      <td>22.16</td>\n",
       "    </tr>\n",
       "  </tbody>\n",
       "</table>\n",
       "</div>"
      ],
      "text/plain": [
       "               dayofweek  month  Delivery Hour  Temperature in F  \\\n",
       "Delivery Date                                                      \n",
       "1/1/2015               3      1              1              44.0   \n",
       "1/1/2015               3      1              2              44.0   \n",
       "1/1/2015               3      1              3              44.0   \n",
       "1/1/2015               3      1              4              44.0   \n",
       "1/1/2015               3      1              5              44.0   \n",
       "\n",
       "               Load in Houston  Settlement Point Price  \n",
       "Delivery Date                                           \n",
       "1/1/2015               9844.20                   22.47  \n",
       "1/1/2015               9653.46                   22.31  \n",
       "1/1/2015               9502.30                   22.20  \n",
       "1/1/2015               9474.48                   22.13  \n",
       "1/1/2015               9554.37                   22.16  "
      ]
     },
     "execution_count": 19,
     "metadata": {},
     "output_type": "execute_result"
    }
   ],
   "source": [
    "load.head()"
   ]
  },
  {
   "cell_type": "code",
   "execution_count": 20,
   "id": "a3d37fe2",
   "metadata": {},
   "outputs": [],
   "source": [
    "\n",
    "#New dataframe with only training data - 5 columns\n",
    "df_for_training = load[cols].astype(float)\n",
    "\n",
    "# df_for_plot=df_for_training.tail(5000)\n",
    "# df_for_plot.plot.line()\n"
   ]
  },
  {
   "cell_type": "code",
   "execution_count": 21,
   "id": "5f0202c4",
   "metadata": {},
   "outputs": [],
   "source": [
    "#LSTM uses sigmoid and tanh that are sensitive to magnitude so values need to be normalized\n",
    "# normalize the dataset\n",
    "scaler = StandardScaler()\n",
    "scaler = scaler.fit(df_for_training)\n",
    "df_for_training_scaled = scaler.transform(df_for_training)"
   ]
  },
  {
   "cell_type": "code",
   "execution_count": 22,
   "id": "b2c7be07",
   "metadata": {},
   "outputs": [
    {
     "name": "stdout",
     "output_type": "stream",
     "text": [
      "trainX shape == (34624, 14, 5).\n",
      "trainY shape == (34624, 1).\n"
     ]
    }
   ],
   "source": [
    "\n",
    "#As required for LSTM networks, we require to reshape an input data into n_samples x timesteps x n_features. \n",
    "#In this example, the n_features is 5. We will make timesteps = 14 (past days data used for training). \n",
    "\n",
    "#Empty lists to be populated using formatted training data\n",
    "trainX = []\n",
    "trainY = []\n",
    "\n",
    "n_future = 1   # Number of days we want to look into the future based on the past days.\n",
    "n_past = 14  # Number of past days we want to use to predict the future.\n",
    "\n",
    "#Reformat input data into a shape: (n_samples x timesteps x n_features)\n",
    "#In my example, my df_for_training_scaled has a shape (12823, 5)\n",
    "#12823 refers to the number of data points and 5 refers to the columns (multi-variables).\n",
    "for i in range(n_past, len(df_for_training_scaled) - n_future +1):\n",
    "    trainX.append(df_for_training_scaled[i - n_past:i, 0:df_for_training.shape[1]])\n",
    "    trainY.append(df_for_training_scaled[i + n_future - 1:i + n_future, 0])\n",
    "\n",
    "trainX, trainY = np.array(trainX), np.array(trainY)\n",
    "\n",
    "print('trainX shape == {}.'.format(trainX.shape))\n",
    "print('trainY shape == {}.'.format(trainY.shape))"
   ]
  },
  {
   "cell_type": "code",
   "execution_count": 23,
   "id": "c3c73d02",
   "metadata": {},
   "outputs": [
    {
     "name": "stdout",
     "output_type": "stream",
     "text": [
      "trainX shape == (27697, 14, 5).\n",
      "trainY shape == (27697, 1).\n",
      "valX shape == (6927, 14, 5).\n",
      "valY shape == (6927, 1).\n"
     ]
    }
   ],
   "source": [
    "\n",
    "\n",
    "# Empty lists to be populated using formatted training data\n",
    "trainX, trainY = [], []\n",
    "valX, valY = [], []\n",
    "\n",
    "n_future = 1   # Number of days we want to look into the future based on the past days.\n",
    "n_past = 14  # Number of past days we want to use to predict the future.\n",
    "\n",
    "# Reformat input data into a shape: (n_samples x timesteps x n_features)\n",
    "# In my example, my df_for_training_scaled has a shape (12823, 5)\n",
    "# 12823 refers to the number of data points, and 5 refers to the columns (multi-variables).\n",
    "for i in range(n_past, len(df_for_training_scaled) - n_future + 1):\n",
    "    # For the first 80% of the data, add it to the training set\n",
    "    if i <= int(len(df_for_training_scaled) * 0.8):\n",
    "        trainX.append(df_for_training_scaled[i - n_past:i, 0:df_for_training_scaled.shape[1]])\n",
    "        trainY.append(df_for_training_scaled[i + n_future - 1:i + n_future, 0])\n",
    "    # For the last 20% of the data, add it to the validation set\n",
    "    else:\n",
    "        valX.append(df_for_training_scaled[i - n_past:i, 0:df_for_training_scaled.shape[1]])\n",
    "        valY.append(df_for_training_scaled[i + n_future - 1:i + n_future, 0])\n",
    "\n",
    "trainX, trainY = np.array(trainX), np.array(trainY)\n",
    "valX, valY = np.array(valX), np.array(valY)\n",
    "\n",
    "print('trainX shape == {}.'.format(trainX.shape))\n",
    "print('trainY shape == {}.'.format(trainY.shape))\n",
    "print('valX shape == {}.'.format(valX.shape))\n",
    "print('valY shape == {}.'.format(valY.shape))\n"
   ]
  },
  {
   "cell_type": "code",
   "execution_count": 34,
   "id": "c9eb029a",
   "metadata": {},
   "outputs": [
    {
     "name": "stdout",
     "output_type": "stream",
     "text": [
      "Model: \"sequential_1\"\n",
      "_________________________________________________________________\n",
      " Layer (type)                Output Shape              Param #   \n",
      "=================================================================\n",
      " lstm_2 (LSTM)               (None, 14, 256)           268288    \n",
      "                                                                 \n",
      " lstm_3 (LSTM)               (None, 224)               430976    \n",
      "                                                                 \n",
      " dropout_1 (Dropout)         (None, 224)               0         \n",
      "                                                                 \n",
      " dense_1 (Dense)             (None, 1)                 225       \n",
      "                                                                 \n",
      "=================================================================\n",
      "Total params: 699,489\n",
      "Trainable params: 699,489\n",
      "Non-trainable params: 0\n",
      "_________________________________________________________________\n"
     ]
    }
   ],
   "source": [
    "\n",
    "#In my case, trainX has a shape (12809, 14, 5). \n",
    "#12809 because we are looking back 14 days (12823 - 14 = 12809). \n",
    "#Remember that we cannot look back 14 days until we get to the 15th day. \n",
    "#Also, trainY has a shape (12809, 1). Our model only predicts a single value, but \n",
    "#it needs multiple variables (5 in my example) to make this prediction. \n",
    "#This is why we can only predict a single day after our training, the day after where our data ends.\n",
    "#To predict more days in future, we need all the 5 variables which we do not have. \n",
    "#We need to predict all variables if we want to do that. \n",
    "\n",
    "# define the Autoencoder model\n",
    "\n",
    "model2 = Sequential()\n",
    "model2.add(LSTM(256, activation='relu', input_shape=(trainX.shape[1], trainX.shape[2]), return_sequences=True))\n",
    "model2.add(LSTM(224, activation='relu', return_sequences=False))\n",
    "model2.add(Dropout(0.2))\n",
    "model2.add(Dense(trainY.shape[1]))\n",
    "\n",
    "model2.compile(optimizer='adam', loss='mse')\n",
    "model2.summary()\n",
    "\n"
   ]
  },
  {
   "cell_type": "code",
   "execution_count": 35,
   "id": "f7094d32",
   "metadata": {},
   "outputs": [],
   "source": [
    "multivariate_lstm_input = Input(shape=(trainX.shape[1], trainX.shape[2]))"
   ]
  },
  {
   "cell_type": "code",
   "execution_count": 36,
   "id": "9d9d1a91",
   "metadata": {},
   "outputs": [
    {
     "name": "stdout",
     "output_type": "stream",
     "text": [
      "866/866 [==============================] - 36s 41ms/step\n"
     ]
    }
   ],
   "source": [
    "predictions_mv = model2.predict(trainX)"
   ]
  },
  {
   "cell_type": "code",
   "execution_count": 37,
   "id": "302bee94",
   "metadata": {},
   "outputs": [
    {
     "data": {
      "text/plain": [
       "0.9032270849252957"
      ]
     },
     "execution_count": 37,
     "metadata": {},
     "output_type": "execute_result"
    }
   ],
   "source": [
    "mean_absolute_error(trainY, predictions_mv)\n"
   ]
  },
  {
   "cell_type": "code",
   "execution_count": 38,
   "id": "ac655a47",
   "metadata": {},
   "outputs": [
    {
     "data": {
      "text/plain": [
       "1.071414604746525"
      ]
     },
     "execution_count": 38,
     "metadata": {},
     "output_type": "execute_result"
    }
   ],
   "source": [
    "mean_squared_error(trainY, predictions_mv)"
   ]
  },
  {
   "cell_type": "code",
   "execution_count": 39,
   "id": "bf4d3778",
   "metadata": {},
   "outputs": [
    {
     "data": {
      "text/plain": [
       "-0.018942854809842258"
      ]
     },
     "execution_count": 39,
     "metadata": {},
     "output_type": "execute_result"
    }
   ],
   "source": [
    "r2_score(trainY, predictions_mv)"
   ]
  },
  {
   "cell_type": "code",
   "execution_count": 40,
   "id": "28bacddb",
   "metadata": {},
   "outputs": [],
   "source": [
    "error = np.round(predictions_mv,2) - np.round(trainY,2)"
   ]
  },
  {
   "cell_type": "code",
   "execution_count": 41,
   "id": "dbbf44cf",
   "metadata": {},
   "outputs": [
    {
     "name": "stdout",
     "output_type": "stream",
     "text": [
      "accuracy: with threshold of 1  is 48.52\n",
      "accuracy: with threshold of 2  is 100.00\n",
      "accuracy: with threshold of 3  is 100.00\n",
      "accuracy: with threshold of 4  is 100.00\n",
      "accuracy: with threshold of 5  is 100.00\n",
      "accuracy: with threshold of 6  is 100.00\n",
      "accuracy: with threshold of 7  is 100.00\n",
      "accuracy: with threshold of 8  is 100.00\n",
      "accuracy: with threshold of 9  is 100.00\n",
      "accuracy: with threshold of 10  is 100.00\n"
     ]
    }
   ],
   "source": [
    "for j in range(1,11):\n",
    "    i=0\n",
    "    count=0\n",
    "    for i in range(len(error)):\n",
    "        if ((error[i])>j) or ((error[i]<-j)):\n",
    "            count=count+1\n",
    "    a = len(predictions_mv) - count\n",
    "    accuracy = (a/len(predictions_mv))*100\n",
    "    print(\"accuracy: with threshold of %i\"%j,\" is %.2f\"%accuracy)"
   ]
  },
  {
   "cell_type": "code",
   "execution_count": 42,
   "id": "ac1b5591",
   "metadata": {},
   "outputs": [
    {
     "name": "stdout",
     "output_type": "stream",
     "text": [
      "Epoch 1/5\n",
      "1558/1558 [==============================] - 90s 56ms/step - loss: 0.0151 - val_loss: 0.0075\n",
      "Epoch 2/5\n",
      "1558/1558 [==============================] - 87s 56ms/step - loss: 0.0065 - val_loss: 0.0084\n",
      "Epoch 3/5\n",
      "1558/1558 [==============================] - 82s 52ms/step - loss: 0.0059 - val_loss: 0.0053\n",
      "Epoch 4/5\n",
      "1558/1558 [==============================] - 86s 55ms/step - loss: 0.0058 - val_loss: 0.0406\n",
      "Epoch 5/5\n",
      "1558/1558 [==============================] - 83s 53ms/step - loss: 0.0056 - val_loss: 0.0050\n"
     ]
    }
   ],
   "source": [
    "# fit the model\n",
    "history2 = model2.fit(trainX, trainY, epochs=5, batch_size=16, validation_split=0.1, verbose=1)\n",
    "\n"
   ]
  },
  {
   "cell_type": "code",
   "execution_count": 43,
   "id": "3f70ad06",
   "metadata": {},
   "outputs": [
    {
     "data": {
      "text/plain": [
       "<matplotlib.legend.Legend at 0x25c7437aa00>"
      ]
     },
     "execution_count": 43,
     "metadata": {},
     "output_type": "execute_result"
    },
    {
     "data": {
      "image/png": "[encoded data removed]",
      "text/plain": [
       "<Figure size 432x288 with 1 Axes>"
      ]
     },
     "metadata": {
      "needs_background": "light"
     },
     "output_type": "display_data"
    }
   ],
   "source": [
    "plt.plot(history2.history['loss'], label='Training loss')\n",
    "plt.plot(history2.history['val_loss'], label='Validation loss')\n",
    "plt.legend()"
   ]
  },
  {
   "cell_type": "code",
   "execution_count": null,
   "id": "261ae673",
   "metadata": {},
   "outputs": [],
   "source": [
    "\n"
   ]
  },
  {
   "cell_type": "code",
   "execution_count": null,
   "id": "0a865a1f",
   "metadata": {},
   "outputs": [],
   "source": []
  }
 ],
 "metadata": {
  "kernelspec": {
   "display_name": "Python 3 (ipykernel)",
   "language": "python",
   "name": "python3"
  },
  "language_info": {
   "codemirror_mode": {
    "name": "ipython",
    "version": 3
   },
   "file_extension": ".py",
   "mimetype": "text/x-python",
   "name": "python",
   "nbconvert_exporter": "python",
   "pygments_lexer": "ipython3",
   "version": "3.9.12"
  }
 },
 "nbformat": 4,
 "nbformat_minor": 5
}
